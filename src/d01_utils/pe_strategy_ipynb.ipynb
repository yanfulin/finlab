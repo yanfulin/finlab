{
 "nbformat": 4,
 "nbformat_minor": 0,
 "metadata": {
  "colab": {
   "name": "「pe_strategy.ipynb」的副本",
   "provenance": [],
   "collapsed_sections": []
  },
  "kernelspec": {
   "name": "python3",
   "display_name": "Python 3"
  },
  "language_info": {
   "name": "python"
  }
 },
 "cells": [
  {
   "cell_type": "code",
   "metadata": {
    "id": "WAFMnwdettvW"
   },
   "source": [
    "%%capture\n"
   ],
   "execution_count": 51,
   "outputs": []
  },
  {
   "cell_type": "code",
   "metadata": {
    "id": "fgh_aW12tu6s",
    "colab": {
     "base_uri": "https://localhost:8080/"
    },
    "outputId": "c8ff303a-3a31-48f8-f3e2-35add48f19c6"
   },
   "source": [
    "from finlab import data\n",
    "from finlab.backtest import sim\n",
    "import finlab\n",
    "import pandas as pd\n",
    "import numpy as np\n",
    "import plotly.express as px\n",
    "import plotly.figure_factory as ff\n"
   ],
   "execution_count": 52,
   "outputs": [
    {
     "ename": "ValueError",
     "evalue": "numpy.ndarray size changed, may indicate binary incompatibility. Expected 96 from C header, got 88 from PyObject",
     "output_type": "error",
     "traceback": [
      "\u001B[1;31m---------------------------------------------------------------------------\u001B[0m",
      "\u001B[1;31mValueError\u001B[0m                                Traceback (most recent call last)",
      "\u001B[1;32m<ipython-input-52-3888487f1df5>\u001B[0m in \u001B[0;36m<module>\u001B[1;34m\u001B[0m\n\u001B[0;32m      1\u001B[0m \u001B[1;32mfrom\u001B[0m \u001B[0mfinlab\u001B[0m \u001B[1;32mimport\u001B[0m \u001B[0mdata\u001B[0m\u001B[1;33m\u001B[0m\u001B[1;33m\u001B[0m\u001B[0m\n\u001B[1;32m----> 2\u001B[1;33m \u001B[1;32mfrom\u001B[0m \u001B[0mfinlab\u001B[0m\u001B[1;33m.\u001B[0m\u001B[0mbacktest\u001B[0m \u001B[1;32mimport\u001B[0m \u001B[0msim\u001B[0m\u001B[1;33m\u001B[0m\u001B[1;33m\u001B[0m\u001B[0m\n\u001B[0m\u001B[0;32m      3\u001B[0m \u001B[1;32mimport\u001B[0m \u001B[0mfinlab\u001B[0m\u001B[1;33m\u001B[0m\u001B[1;33m\u001B[0m\u001B[0m\n\u001B[0;32m      4\u001B[0m \u001B[1;32mimport\u001B[0m \u001B[0mpandas\u001B[0m \u001B[1;32mas\u001B[0m \u001B[0mpd\u001B[0m\u001B[1;33m\u001B[0m\u001B[1;33m\u001B[0m\u001B[0m\n\u001B[0;32m      5\u001B[0m \u001B[1;32mimport\u001B[0m \u001B[0mnumpy\u001B[0m \u001B[1;32mas\u001B[0m \u001B[0mnp\u001B[0m\u001B[1;33m\u001B[0m\u001B[1;33m\u001B[0m\u001B[0m\n",
      "\u001B[1;32m~\\anaconda3\\lib\\site-packages\\finlab\\backtest.py\u001B[0m in \u001B[0;36m<module>\u001B[1;34m\u001B[0m\n\u001B[0;32m      9\u001B[0m \u001B[1;32mimport\u001B[0m \u001B[0mfinlab\u001B[0m\u001B[1;33m\u001B[0m\u001B[1;33m\u001B[0m\u001B[0m\n\u001B[0;32m     10\u001B[0m \u001B[1;32mfrom\u001B[0m \u001B[0mfinlab\u001B[0m \u001B[1;32mimport\u001B[0m \u001B[0mdata\u001B[0m\u001B[1;33m,\u001B[0m \u001B[0mmarket_info\u001B[0m\u001B[1;33m,\u001B[0m \u001B[0mreport\u001B[0m\u001B[1;33m\u001B[0m\u001B[1;33m\u001B[0m\u001B[0m\n\u001B[1;32m---> 11\u001B[1;33m \u001B[1;32mfrom\u001B[0m \u001B[0mfinlab\u001B[0m \u001B[1;32mimport\u001B[0m \u001B[0mmae_mfe\u001B[0m\u001B[1;33m\u001B[0m\u001B[1;33m\u001B[0m\u001B[0m\n\u001B[0m\u001B[0;32m     12\u001B[0m \u001B[1;32mfrom\u001B[0m \u001B[0mfinlab\u001B[0m\u001B[1;33m.\u001B[0m\u001B[0mutils\u001B[0m \u001B[1;32mimport\u001B[0m \u001B[0mcheck_version\u001B[0m\u001B[1;33m,\u001B[0m \u001B[0mrequests\u001B[0m\u001B[1;33m,\u001B[0m \u001B[0mset_global\u001B[0m\u001B[1;33m\u001B[0m\u001B[1;33m\u001B[0m\u001B[0m\n\u001B[0;32m     13\u001B[0m \u001B[1;32mfrom\u001B[0m \u001B[0mfinlab\u001B[0m\u001B[1;33m.\u001B[0m\u001B[0mbacktest_core\u001B[0m \u001B[1;32mimport\u001B[0m \u001B[0mbacktest_\u001B[0m\u001B[1;33m,\u001B[0m \u001B[0mget_trade_stocks\u001B[0m\u001B[1;33m\u001B[0m\u001B[1;33m\u001B[0m\u001B[0m\n",
      "\u001B[1;32mfinlab\\mae_mfe.pyx\u001B[0m in \u001B[0;36minit finlab.mae_mfe\u001B[1;34m()\u001B[0m\n",
      "\u001B[1;31mValueError\u001B[0m: numpy.ndarray size changed, may indicate binary incompatibility. Expected 96 from C header, got 88 from PyObject"
     ]
    }
   ]
  },
  {
   "cell_type": "code",
   "execution_count": 53,
   "outputs": [],
   "source": [
    "from pathlib import Path\n",
    "import os\n",
    "from dotenv import load_dotenv\n",
    "\n",
    "def configure():\n",
    "    dotenv_path = Path(Path.home(),'PycharmProjects/finlab/conf/.env')\n",
    "    # print(Path.cwd(),Path.home())\n",
    "    # print(dotenv_path)\n",
    "    # print(os.path.expanduser(\"~/PycharmProjects\"))\n",
    "    load_dotenv(dotenv_path)\n",
    "    # finlab_api=os.getenv(\"finlab_key\")\n",
    "    # print(\"finlab_api\", finlab_api)"
   ],
   "metadata": {
    "collapsed": false,
    "pycharm": {
     "name": "#%%\n"
    }
   }
  },
  {
   "cell_type": "markdown",
   "metadata": {
    "id": "8lTqJYaOx9aQ"
   },
   "source": [
    "## All market"
   ]
  },
  {
   "cell_type": "code",
   "metadata": {
    "id": "8UhCgE_3uk3y",
    "colab": {
     "base_uri": "https://localhost:8080/",
     "height": 357
    },
    "outputId": "338408d1-a4e9-455e-f9c1-1e41ef1d3e35"
   },
   "source": [
    "def get_pe_return():\n",
    "    # 下載本益比資料\n",
    "    configure()\n",
    "    finlab.login(os.getenv(\"finlab_key\"))\n",
    "    pe = data.get('price_earning_ratio:本益比')\n",
    "\n",
    "    # 設定測試區間(最後測試 PE = 50 ~ 1000)\n",
    "    test_range = list(np.arange(0,55,5)) + [1000]\n",
    "\n",
    "    # 回測序列資料集\n",
    "    return_dataset = {}\n",
    "\n",
    "    for start, end in zip(test_range, test_range[1:]):\n",
    "\n",
    "        # 選股條件\n",
    "        position = (pe > start) & (pe < end)\n",
    "\n",
    "        # 進行回測，upload設為false，不上傳資料到平台，加快回測\n",
    "        report = sim(position=position, resample='M', upload=False)\n",
    "\n",
    "        # 製作繪圖dataframe\n",
    "        return_dataset[f\"{start}-{end}\"] = report.creturn\n",
    "\n",
    "    return_dataset = pd.DataFrame(return_dataset)\n",
    "    return return_dataset\n",
    "\n",
    "return_dataset = get_pe_return()\n"
   ],
   "execution_count": 54,
   "outputs": [
    {
     "ename": "NameError",
     "evalue": "name 'finlab' is not defined",
     "output_type": "error",
     "traceback": [
      "\u001B[1;31m---------------------------------------------------------------------------\u001B[0m",
      "\u001B[1;31mNameError\u001B[0m                                 Traceback (most recent call last)",
      "\u001B[1;32m<ipython-input-54-6ac5fef18efb>\u001B[0m in \u001B[0;36m<module>\u001B[1;34m\u001B[0m\n\u001B[0;32m     25\u001B[0m     \u001B[1;32mreturn\u001B[0m \u001B[0mreturn_dataset\u001B[0m\u001B[1;33m\u001B[0m\u001B[1;33m\u001B[0m\u001B[0m\n\u001B[0;32m     26\u001B[0m \u001B[1;33m\u001B[0m\u001B[0m\n\u001B[1;32m---> 27\u001B[1;33m \u001B[0mreturn_dataset\u001B[0m \u001B[1;33m=\u001B[0m \u001B[0mget_pe_return\u001B[0m\u001B[1;33m(\u001B[0m\u001B[1;33m)\u001B[0m\u001B[1;33m\u001B[0m\u001B[1;33m\u001B[0m\u001B[0m\n\u001B[0m\u001B[0;32m     28\u001B[0m \u001B[1;33m\u001B[0m\u001B[0m\n",
      "\u001B[1;32m<ipython-input-54-6ac5fef18efb>\u001B[0m in \u001B[0;36mget_pe_return\u001B[1;34m()\u001B[0m\n\u001B[0;32m      2\u001B[0m     \u001B[1;31m# 下載本益比資料\u001B[0m\u001B[1;33m\u001B[0m\u001B[1;33m\u001B[0m\u001B[1;33m\u001B[0m\u001B[0m\n\u001B[0;32m      3\u001B[0m     \u001B[0mconfigure\u001B[0m\u001B[1;33m(\u001B[0m\u001B[1;33m)\u001B[0m\u001B[1;33m\u001B[0m\u001B[1;33m\u001B[0m\u001B[0m\n\u001B[1;32m----> 4\u001B[1;33m     \u001B[0mfinlab\u001B[0m\u001B[1;33m.\u001B[0m\u001B[0mlogin\u001B[0m\u001B[1;33m(\u001B[0m\u001B[0mos\u001B[0m\u001B[1;33m.\u001B[0m\u001B[0mgetenv\u001B[0m\u001B[1;33m(\u001B[0m\u001B[1;34m\"finlab_key\"\u001B[0m\u001B[1;33m)\u001B[0m\u001B[1;33m)\u001B[0m\u001B[1;33m\u001B[0m\u001B[1;33m\u001B[0m\u001B[0m\n\u001B[0m\u001B[0;32m      5\u001B[0m     \u001B[0mpe\u001B[0m \u001B[1;33m=\u001B[0m \u001B[0mdata\u001B[0m\u001B[1;33m.\u001B[0m\u001B[0mget\u001B[0m\u001B[1;33m(\u001B[0m\u001B[1;34m'price_earning_ratio:本益比'\u001B[0m\u001B[1;33m)\u001B[0m\u001B[1;33m\u001B[0m\u001B[1;33m\u001B[0m\u001B[0m\n\u001B[0;32m      6\u001B[0m \u001B[1;33m\u001B[0m\u001B[0m\n",
      "\u001B[1;31mNameError\u001B[0m: name 'finlab' is not defined"
     ]
    }
   ]
  },
  {
   "cell_type": "markdown",
   "metadata": {
    "id": "7txJf_boK3H2"
   },
   "source": [
    "### Plot"
   ]
  },
  {
   "cell_type": "code",
   "metadata": {
    "colab": {
     "base_uri": "https://localhost:8080/",
     "height": 1000
    },
    "id": "dxPJmSYicP_t",
    "outputId": "f9066060-3d7f-4b53-83f0-973f3a45044e"
   },
   "source": [
    "fig = px.line(return_dataset, title='pe multiple backtest')\n",
    "fig.show()\n",
    "\n",
    "fig = px.bar(return_dataset.iloc[-1], color=return_dataset.iloc[-1].values, title='pe multiple backtest bar')\n",
    "fig.show()"
   ],
   "execution_count": 55,
   "outputs": [
    {
     "ename": "NameError",
     "evalue": "name 'px' is not defined",
     "output_type": "error",
     "traceback": [
      "\u001B[1;31m---------------------------------------------------------------------------\u001B[0m",
      "\u001B[1;31mNameError\u001B[0m                                 Traceback (most recent call last)",
      "\u001B[1;32m<ipython-input-55-4467795c7402>\u001B[0m in \u001B[0;36m<module>\u001B[1;34m\u001B[0m\n\u001B[1;32m----> 1\u001B[1;33m \u001B[0mfig\u001B[0m \u001B[1;33m=\u001B[0m \u001B[0mpx\u001B[0m\u001B[1;33m.\u001B[0m\u001B[0mline\u001B[0m\u001B[1;33m(\u001B[0m\u001B[0mreturn_dataset\u001B[0m\u001B[1;33m,\u001B[0m \u001B[0mtitle\u001B[0m\u001B[1;33m=\u001B[0m\u001B[1;34m'pe multiple backtest'\u001B[0m\u001B[1;33m)\u001B[0m\u001B[1;33m\u001B[0m\u001B[1;33m\u001B[0m\u001B[0m\n\u001B[0m\u001B[0;32m      2\u001B[0m \u001B[0mfig\u001B[0m\u001B[1;33m.\u001B[0m\u001B[0mshow\u001B[0m\u001B[1;33m(\u001B[0m\u001B[1;33m)\u001B[0m\u001B[1;33m\u001B[0m\u001B[1;33m\u001B[0m\u001B[0m\n\u001B[0;32m      3\u001B[0m \u001B[1;33m\u001B[0m\u001B[0m\n\u001B[0;32m      4\u001B[0m \u001B[0mfig\u001B[0m \u001B[1;33m=\u001B[0m \u001B[0mpx\u001B[0m\u001B[1;33m.\u001B[0m\u001B[0mbar\u001B[0m\u001B[1;33m(\u001B[0m\u001B[0mreturn_dataset\u001B[0m\u001B[1;33m.\u001B[0m\u001B[0miloc\u001B[0m\u001B[1;33m[\u001B[0m\u001B[1;33m-\u001B[0m\u001B[1;36m1\u001B[0m\u001B[1;33m]\u001B[0m\u001B[1;33m,\u001B[0m \u001B[0mcolor\u001B[0m\u001B[1;33m=\u001B[0m\u001B[0mreturn_dataset\u001B[0m\u001B[1;33m.\u001B[0m\u001B[0miloc\u001B[0m\u001B[1;33m[\u001B[0m\u001B[1;33m-\u001B[0m\u001B[1;36m1\u001B[0m\u001B[1;33m]\u001B[0m\u001B[1;33m.\u001B[0m\u001B[0mvalues\u001B[0m\u001B[1;33m,\u001B[0m \u001B[0mtitle\u001B[0m\u001B[1;33m=\u001B[0m\u001B[1;34m'pe multiple backtest bar'\u001B[0m\u001B[1;33m)\u001B[0m\u001B[1;33m\u001B[0m\u001B[1;33m\u001B[0m\u001B[0m\n\u001B[0;32m      5\u001B[0m \u001B[0mfig\u001B[0m\u001B[1;33m.\u001B[0m\u001B[0mshow\u001B[0m\u001B[1;33m(\u001B[0m\u001B[1;33m)\u001B[0m\u001B[1;33m\u001B[0m\u001B[1;33m\u001B[0m\u001B[0m\n",
      "\u001B[1;31mNameError\u001B[0m: name 'px' is not defined"
     ]
    }
   ]
  },
  {
   "cell_type": "markdown",
   "metadata": {
    "id": "KnDdVmq-M-a2"
   },
   "source": [
    "## Single factor startegy"
   ]
  },
  {
   "cell_type": "code",
   "metadata": {
    "colab": {
     "base_uri": "https://localhost:8080/",
     "height": 639
    },
    "id": "fmUOzzrbyWm-",
    "outputId": "20d3358d-15cc-4e18-9a93-4a26c2093c47"
   },
   "source": [
    "pe = data.get('price_earning_ratio:本益比')\n",
    "position= (pe>10) & (pe<15)\n",
    "report=sim(position=position,resample='M',name=\"策略教學範例:pe_single_factor\",upload=True)\n",
    "# report.benchmark = data.get('benchmark_return:發行量加權股價報酬指數').squeeze()\n",
    "# report.display()\n",
    "# report.creturn"
   ],
   "execution_count": 56,
   "outputs": [
    {
     "ename": "Exception",
     "evalue": "The api_token format is wrong, please paste the api_token after re-run the process or check api token from https://ai.finlab.tw/api_token/.",
     "output_type": "error",
     "traceback": [
      "\u001B[1;31m---------------------------------------------------------------------------\u001B[0m",
      "\u001B[1;31mException\u001B[0m                                 Traceback (most recent call last)",
      "\u001B[1;32m<ipython-input-56-47fc4714134b>\u001B[0m in \u001B[0;36m<module>\u001B[1;34m\u001B[0m\n\u001B[1;32m----> 1\u001B[1;33m \u001B[0mpe\u001B[0m \u001B[1;33m=\u001B[0m \u001B[0mdata\u001B[0m\u001B[1;33m.\u001B[0m\u001B[0mget\u001B[0m\u001B[1;33m(\u001B[0m\u001B[1;34m'price_earning_ratio:本益比'\u001B[0m\u001B[1;33m)\u001B[0m\u001B[1;33m\u001B[0m\u001B[1;33m\u001B[0m\u001B[0m\n\u001B[0m\u001B[0;32m      2\u001B[0m \u001B[0mposition\u001B[0m\u001B[1;33m=\u001B[0m \u001B[1;33m(\u001B[0m\u001B[0mpe\u001B[0m\u001B[1;33m>\u001B[0m\u001B[1;36m10\u001B[0m\u001B[1;33m)\u001B[0m \u001B[1;33m&\u001B[0m \u001B[1;33m(\u001B[0m\u001B[0mpe\u001B[0m\u001B[1;33m<\u001B[0m\u001B[1;36m15\u001B[0m\u001B[1;33m)\u001B[0m\u001B[1;33m\u001B[0m\u001B[1;33m\u001B[0m\u001B[0m\n\u001B[0;32m      3\u001B[0m \u001B[0mreport\u001B[0m\u001B[1;33m=\u001B[0m\u001B[0msim\u001B[0m\u001B[1;33m(\u001B[0m\u001B[0mposition\u001B[0m\u001B[1;33m=\u001B[0m\u001B[0mposition\u001B[0m\u001B[1;33m,\u001B[0m\u001B[0mresample\u001B[0m\u001B[1;33m=\u001B[0m\u001B[1;34m'M'\u001B[0m\u001B[1;33m,\u001B[0m\u001B[0mname\u001B[0m\u001B[1;33m=\u001B[0m\u001B[1;34m\"策略教學範例:pe_single_factor\"\u001B[0m\u001B[1;33m,\u001B[0m\u001B[0mupload\u001B[0m\u001B[1;33m=\u001B[0m\u001B[1;32mTrue\u001B[0m\u001B[1;33m)\u001B[0m\u001B[1;33m\u001B[0m\u001B[1;33m\u001B[0m\u001B[0m\n\u001B[0;32m      4\u001B[0m \u001B[1;31m# report.benchmark = data.get('benchmark_return:發行量加權股價報酬指數').squeeze()\u001B[0m\u001B[1;33m\u001B[0m\u001B[1;33m\u001B[0m\u001B[1;33m\u001B[0m\u001B[0m\n\u001B[0;32m      5\u001B[0m \u001B[1;31m# report.display()\u001B[0m\u001B[1;33m\u001B[0m\u001B[1;33m\u001B[0m\u001B[1;33m\u001B[0m\u001B[0m\n",
      "\u001B[1;32m~\\anaconda3\\lib\\site-packages\\finlab\\data.py\u001B[0m in \u001B[0;36mget\u001B[1;34m(dataset, use_cache)\u001B[0m\n\u001B[0;32m    195\u001B[0m         \u001B[1;32mreturn\u001B[0m \u001B[0mret\u001B[0m \u001B[1;32mif\u001B[0m \u001B[1;32mnot\u001B[0m \u001B[0muniverse_stocks\u001B[0m \u001B[1;32melse\u001B[0m \u001B[0mret\u001B[0m\u001B[1;33m[\u001B[0m\u001B[0mret\u001B[0m\u001B[1;33m.\u001B[0m\u001B[0mcolumns\u001B[0m\u001B[1;33m.\u001B[0m\u001B[0mintersection\u001B[0m\u001B[1;33m(\u001B[0m\u001B[0muniverse_stocks\u001B[0m\u001B[1;33m)\u001B[0m\u001B[1;33m]\u001B[0m\u001B[1;33m\u001B[0m\u001B[1;33m\u001B[0m\u001B[0m\n\u001B[0;32m    196\u001B[0m \u001B[1;33m\u001B[0m\u001B[0m\n\u001B[1;32m--> 197\u001B[1;33m     \u001B[0mapi_token\u001B[0m \u001B[1;33m=\u001B[0m \u001B[0mget_token\u001B[0m\u001B[1;33m(\u001B[0m\u001B[1;33m)\u001B[0m\u001B[1;33m\u001B[0m\u001B[1;33m\u001B[0m\u001B[0m\n\u001B[0m\u001B[0;32m    198\u001B[0m \u001B[1;33m\u001B[0m\u001B[0m\n\u001B[0;32m    199\u001B[0m     \u001B[1;31m# request for auth url\u001B[0m\u001B[1;33m\u001B[0m\u001B[1;33m\u001B[0m\u001B[1;33m\u001B[0m\u001B[0m\n",
      "\u001B[1;32m~\\anaconda3\\lib\\site-packages\\finlab\\__init__.py\u001B[0m in \u001B[0;36mget_token\u001B[1;34m()\u001B[0m\n\u001B[0;32m     70\u001B[0m \u001B[1;32mdef\u001B[0m \u001B[0mget_token\u001B[0m\u001B[1;33m(\u001B[0m\u001B[1;33m)\u001B[0m\u001B[1;33m:\u001B[0m\u001B[1;33m\u001B[0m\u001B[1;33m\u001B[0m\u001B[0m\n\u001B[0;32m     71\u001B[0m     \u001B[1;32mif\u001B[0m \u001B[1;34m'finlab_id_token'\u001B[0m \u001B[1;32mnot\u001B[0m \u001B[1;32min\u001B[0m \u001B[0mos\u001B[0m\u001B[1;33m.\u001B[0m\u001B[0menviron\u001B[0m\u001B[1;33m:\u001B[0m\u001B[1;33m\u001B[0m\u001B[1;33m\u001B[0m\u001B[0m\n\u001B[1;32m---> 72\u001B[1;33m         \u001B[0mlogin\u001B[0m\u001B[1;33m(\u001B[0m\u001B[1;33m)\u001B[0m\u001B[1;33m\u001B[0m\u001B[1;33m\u001B[0m\u001B[0m\n\u001B[0m\u001B[0;32m     73\u001B[0m \u001B[1;33m\u001B[0m\u001B[0m\n\u001B[0;32m     74\u001B[0m     \u001B[1;32mreturn\u001B[0m \u001B[0mos\u001B[0m\u001B[1;33m.\u001B[0m\u001B[0menviron\u001B[0m\u001B[1;33m[\u001B[0m\u001B[1;34m'finlab_id_token'\u001B[0m\u001B[1;33m]\u001B[0m\u001B[1;33m\u001B[0m\u001B[1;33m\u001B[0m\u001B[0m\n",
      "\u001B[1;32m~\\anaconda3\\lib\\site-packages\\finlab\\__init__.py\u001B[0m in \u001B[0;36mlogin\u001B[1;34m(api_token)\u001B[0m\n\u001B[0;32m     61\u001B[0m         \u001B[0mlp\u001B[0m \u001B[1;33m=\u001B[0m \u001B[0mLoginPanel\u001B[0m\u001B[1;33m(\u001B[0m\u001B[1;33m)\u001B[0m\u001B[1;33m\u001B[0m\u001B[1;33m\u001B[0m\u001B[0m\n\u001B[0;32m     62\u001B[0m         \u001B[1;32mif\u001B[0m \u001B[0mlp\u001B[0m\u001B[1;33m.\u001B[0m\u001B[0mgui_supported\u001B[0m\u001B[1;33m(\u001B[0m\u001B[1;33m)\u001B[0m\u001B[1;33m:\u001B[0m\u001B[1;33m\u001B[0m\u001B[1;33m\u001B[0m\u001B[0m\n\u001B[1;32m---> 63\u001B[1;33m             \u001B[0mlp\u001B[0m\u001B[1;33m.\u001B[0m\u001B[0mdisplay_gui\u001B[0m\u001B[1;33m(\u001B[0m\u001B[1;33m)\u001B[0m\u001B[1;33m\u001B[0m\u001B[1;33m\u001B[0m\u001B[0m\n\u001B[0m\u001B[0;32m     64\u001B[0m         \u001B[1;32melse\u001B[0m\u001B[1;33m:\u001B[0m\u001B[1;33m\u001B[0m\u001B[1;33m\u001B[0m\u001B[0m\n\u001B[0;32m     65\u001B[0m             \u001B[0mlp\u001B[0m\u001B[1;33m.\u001B[0m\u001B[0mdisplay_text_input\u001B[0m\u001B[1;33m(\u001B[0m\u001B[1;33m)\u001B[0m\u001B[1;33m\u001B[0m\u001B[1;33m\u001B[0m\u001B[0m\n",
      "\u001B[1;32m~\\anaconda3\\lib\\site-packages\\finlab\\__init__.py\u001B[0m in \u001B[0;36mdisplay_gui\u001B[1;34m(self)\u001B[0m\n\u001B[0;32m     33\u001B[0m \u001B[1;33m\u001B[0m\u001B[0m\n\u001B[0;32m     34\u001B[0m         \u001B[0mclear_output\u001B[0m\u001B[1;33m(\u001B[0m\u001B[1;33m)\u001B[0m\u001B[1;33m\u001B[0m\u001B[1;33m\u001B[0m\u001B[0m\n\u001B[1;32m---> 35\u001B[1;33m         \u001B[0mself\u001B[0m\u001B[1;33m.\u001B[0m\u001B[0mlogin\u001B[0m\u001B[1;33m(\u001B[0m\u001B[0mtoken\u001B[0m\u001B[1;33m)\u001B[0m\u001B[1;33m\u001B[0m\u001B[1;33m\u001B[0m\u001B[0m\n\u001B[0m\u001B[0;32m     36\u001B[0m \u001B[1;33m\u001B[0m\u001B[0m\n\u001B[0;32m     37\u001B[0m     \u001B[1;32mdef\u001B[0m \u001B[0mdisplay_text_input\u001B[0m\u001B[1;33m(\u001B[0m\u001B[0mself\u001B[0m\u001B[1;33m)\u001B[0m\u001B[1;33m:\u001B[0m\u001B[1;33m\u001B[0m\u001B[1;33m\u001B[0m\u001B[0m\n",
      "\u001B[1;32m~\\anaconda3\\lib\\site-packages\\finlab\\__init__.py\u001B[0m in \u001B[0;36mlogin\u001B[1;34m(token)\u001B[0m\n\u001B[0;32m     44\u001B[0m         \u001B[1;31m# check\u001B[0m\u001B[1;33m\u001B[0m\u001B[1;33m\u001B[0m\u001B[1;33m\u001B[0m\u001B[0m\n\u001B[0;32m     45\u001B[0m         \u001B[1;32mif\u001B[0m \u001B[1;34m'#'\u001B[0m \u001B[1;32mnot\u001B[0m \u001B[1;32min\u001B[0m \u001B[0mtoken\u001B[0m \u001B[1;32mor\u001B[0m \u001B[0mtoken\u001B[0m\u001B[1;33m.\u001B[0m\u001B[0msplit\u001B[0m\u001B[1;33m(\u001B[0m\u001B[1;34m'#'\u001B[0m\u001B[1;33m)\u001B[0m\u001B[1;33m[\u001B[0m\u001B[1;36m1\u001B[0m\u001B[1;33m]\u001B[0m \u001B[1;32mnot\u001B[0m \u001B[1;32min\u001B[0m \u001B[1;33m[\u001B[0m\u001B[1;34m'vip'\u001B[0m\u001B[1;33m,\u001B[0m \u001B[1;34m'free'\u001B[0m\u001B[1;33m]\u001B[0m\u001B[1;33m:\u001B[0m\u001B[1;33m\u001B[0m\u001B[1;33m\u001B[0m\u001B[0m\n\u001B[1;32m---> 46\u001B[1;33m             raise Exception('The api_token format is wrong, '\n\u001B[0m\u001B[0;32m     47\u001B[0m                             \u001B[1;34m'please paste the api_token after re-run the process or '\u001B[0m\u001B[1;33m\u001B[0m\u001B[1;33m\u001B[0m\u001B[0m\n\u001B[0;32m     48\u001B[0m                             'check api token from https://ai.finlab.tw/api_token/.')\n",
      "\u001B[1;31mException\u001B[0m: The api_token format is wrong, please paste the api_token after re-run the process or check api token from https://ai.finlab.tw/api_token/."
     ]
    }
   ]
  },
  {
   "cell_type": "markdown",
   "metadata": {
    "id": "eSrncRJR1uke"
   },
   "source": [
    "##  Industry backtest"
   ]
  },
  {
   "cell_type": "markdown",
   "metadata": {
    "id": "xD3NnIuRx4cW"
   },
   "source": [
    "### Heatmap"
   ]
  },
  {
   "cell_type": "code",
   "metadata": {
    "id": "714pEWLhqL5a"
   },
   "source": [
    "category = ['光電業', '其他', '其他電子業','化學工業', '半導體', '塑膠工業', '建材營造', '文化創意業', '橡膠工業', '水泥工業',\n",
    "            '汽車工業', '油電燃氣業', '玻璃陶瓷', '生技醫療', '紡織纖維', '航運業', '觀光事業', '貿易百貨',\n",
    "            '資訊服務業', '農業科技', '通信網路業', '造紙工業', '金融', '鋼鐵工業', '電器電纜', '電子商務',\n",
    "            '電子通路業', '電子零組件', '電機機械', '電腦及週邊', '食品工業']\n",
    "\n",
    "final_return_dataset = {}\n",
    "for cate in category:\n",
    "    \n",
    "    data.set_universe(category=cate)\n",
    "\n",
    "    try:\n",
    "        return_dataset = get_pe_return()\n",
    "        final_return_dataset[cate] = return_dataset\n",
    "    except:\n",
    "        pass"
   ],
   "execution_count": null,
   "outputs": []
  },
  {
   "cell_type": "markdown",
   "metadata": {
    "id": "RCBgf6t-dNjI"
   },
   "source": [
    "#### [imshow](https://plotly.com/python/imshow/)"
   ]
  },
  {
   "cell_type": "code",
   "metadata": {
    "colab": {
     "base_uri": "https://localhost:8080/",
     "height": 542
    },
    "id": "Nby1WXvl7lqJ",
    "outputId": "2ca4b7fd-2311-4a3f-f339-86e6cf7dc27a"
   },
   "source": [
    "heatmap = {}\n",
    "for key, value in final_return_dataset.items():\n",
    "    heatmap[key] = value.iloc[-1]\n",
    "df_heatmap = pd.DataFrame(heatmap)\n",
    "\n",
    "fig = px.imshow(np.log(df_heatmap))\n",
    "fig.show()"
   ],
   "execution_count": null,
   "outputs": []
  },
  {
   "cell_type": "markdown",
   "metadata": {
    "id": "9qJRVmHBcyuS"
   },
   "source": [
    "#### [annotated-heatmap](https://plotly.com/python/annotated-heatmap/)\n",
    "\n",
    "This function adds annotations to each cell of the heatmap.\n",
    "\n",
    "[api doc](https://plotly.github.io/plotly.py-docs/generated/plotly.figure_factory.create_annotated_heatmap.html)"
   ]
  },
  {
   "cell_type": "code",
   "metadata": {
    "colab": {
     "base_uri": "https://localhost:8080/",
     "height": 542
    },
    "id": "20OE1BJkcHmG",
    "outputId": "d291a3c8-7809-46a2-fac3-1e406df84f65"
   },
   "source": [
    "df_heatmap=round(df_heatmap,2)\n",
    "x=list(df_heatmap.columns)\n",
    "y=list(df_heatmap.index)\n",
    "z=df_heatmap.values\n",
    "\n",
    "fig = ff.create_annotated_heatmap(z=z, x=x, y=y, annotation_text=z, showscale=True, reversescale=True, font_colors=['#302c2c','#e0d9d9'])\n",
    "fig.update_layout(title='pe backtest heatmap by industry',\n",
    "                  xaxis=dict(title='industry',side='bottom'),\n",
    "                  yaxis=dict(title='multiple',),\n",
    "                  )\n",
    "fig.show()"
   ],
   "execution_count": null,
   "outputs": []
  },
  {
   "cell_type": "markdown",
   "metadata": {
    "id": "rCX-_dweKo1f"
   },
   "source": [
    "### Industry factor startegy"
   ]
  },
  {
   "cell_type": "code",
   "metadata": {
    "colab": {
     "base_uri": "https://localhost:8080/",
     "height": 621
    },
    "id": "HWMRkbb2JHXa",
    "outputId": "4f876a73-300e-49df-85d5-578ca2783fd4"
   },
   "source": [
    "category = ['食品工業','紡織纖維','航運業','油電燃氣業','橡膠工業']\n",
    "data.set_universe(category=category)\n",
    "pe = data.get('price_earning_ratio:本益比')\n",
    "position = (pe>10) & (pe<15)\n",
    "ind_report = sim(position=position, resample='M', name=\"策略教學範例:pe_industry_factor\", upload=True)\n"
   ],
   "execution_count": 50,
   "outputs": [
    {
     "ename": "Exception",
     "evalue": "The api_token format is wrong, please paste the api_token after re-run the process or check api token from https://ai.finlab.tw/api_token/.",
     "output_type": "error",
     "traceback": [
      "\u001B[1;31m---------------------------------------------------------------------------\u001B[0m",
      "\u001B[1;31mException\u001B[0m                                 Traceback (most recent call last)",
      "\u001B[1;32m<ipython-input-50-6b996089ff34>\u001B[0m in \u001B[0;36m<module>\u001B[1;34m\u001B[0m\n\u001B[0;32m      1\u001B[0m \u001B[0mcategory\u001B[0m \u001B[1;33m=\u001B[0m \u001B[1;33m[\u001B[0m\u001B[1;34m'食品工業'\u001B[0m\u001B[1;33m,\u001B[0m\u001B[1;34m'紡織纖維'\u001B[0m\u001B[1;33m,\u001B[0m\u001B[1;34m'航運業'\u001B[0m\u001B[1;33m,\u001B[0m\u001B[1;34m'油電燃氣業'\u001B[0m\u001B[1;33m,\u001B[0m\u001B[1;34m'橡膠工業'\u001B[0m\u001B[1;33m]\u001B[0m\u001B[1;33m\u001B[0m\u001B[1;33m\u001B[0m\u001B[0m\n\u001B[1;32m----> 2\u001B[1;33m \u001B[0mdata\u001B[0m\u001B[1;33m.\u001B[0m\u001B[0mset_universe\u001B[0m\u001B[1;33m(\u001B[0m\u001B[0mcategory\u001B[0m\u001B[1;33m=\u001B[0m\u001B[0mcategory\u001B[0m\u001B[1;33m)\u001B[0m\u001B[1;33m\u001B[0m\u001B[1;33m\u001B[0m\u001B[0m\n\u001B[0m\u001B[0;32m      3\u001B[0m \u001B[0mpe\u001B[0m \u001B[1;33m=\u001B[0m \u001B[0mdata\u001B[0m\u001B[1;33m.\u001B[0m\u001B[0mget\u001B[0m\u001B[1;33m(\u001B[0m\u001B[1;34m'price_earning_ratio:本益比'\u001B[0m\u001B[1;33m)\u001B[0m\u001B[1;33m\u001B[0m\u001B[1;33m\u001B[0m\u001B[0m\n\u001B[0;32m      4\u001B[0m \u001B[0mposition\u001B[0m \u001B[1;33m=\u001B[0m \u001B[1;33m(\u001B[0m\u001B[0mpe\u001B[0m\u001B[1;33m>\u001B[0m\u001B[1;36m10\u001B[0m\u001B[1;33m)\u001B[0m \u001B[1;33m&\u001B[0m \u001B[1;33m(\u001B[0m\u001B[0mpe\u001B[0m\u001B[1;33m<\u001B[0m\u001B[1;36m15\u001B[0m\u001B[1;33m)\u001B[0m\u001B[1;33m\u001B[0m\u001B[1;33m\u001B[0m\u001B[0m\n\u001B[0;32m      5\u001B[0m \u001B[0mind_report\u001B[0m \u001B[1;33m=\u001B[0m \u001B[0msim\u001B[0m\u001B[1;33m(\u001B[0m\u001B[0mposition\u001B[0m\u001B[1;33m=\u001B[0m\u001B[0mposition\u001B[0m\u001B[1;33m,\u001B[0m \u001B[0mresample\u001B[0m\u001B[1;33m=\u001B[0m\u001B[1;34m'M'\u001B[0m\u001B[1;33m,\u001B[0m \u001B[0mname\u001B[0m\u001B[1;33m=\u001B[0m\u001B[1;34m\"策略教學範例:pe_industry_factor\"\u001B[0m\u001B[1;33m,\u001B[0m \u001B[0mupload\u001B[0m\u001B[1;33m=\u001B[0m\u001B[1;32mTrue\u001B[0m\u001B[1;33m)\u001B[0m\u001B[1;33m\u001B[0m\u001B[1;33m\u001B[0m\u001B[0m\n",
      "\u001B[1;32m~\\anaconda3\\lib\\site-packages\\finlab\\data.py\u001B[0m in \u001B[0;36mset_universe\u001B[1;34m(market, category)\u001B[0m\n\u001B[0;32m    144\u001B[0m   \"\"\"\n\u001B[0;32m    145\u001B[0m \u001B[1;33m\u001B[0m\u001B[0m\n\u001B[1;32m--> 146\u001B[1;33m   \u001B[0mcategories\u001B[0m \u001B[1;33m=\u001B[0m \u001B[0mget\u001B[0m\u001B[1;33m(\u001B[0m\u001B[1;34m'security_categories'\u001B[0m\u001B[1;33m)\u001B[0m\u001B[1;33m\u001B[0m\u001B[1;33m\u001B[0m\u001B[0m\n\u001B[0m\u001B[0;32m    147\u001B[0m \u001B[1;33m\u001B[0m\u001B[0m\n\u001B[0;32m    148\u001B[0m   \u001B[0mmarket_match\u001B[0m \u001B[1;33m=\u001B[0m \u001B[0mpd\u001B[0m\u001B[1;33m.\u001B[0m\u001B[0mSeries\u001B[0m\u001B[1;33m(\u001B[0m\u001B[1;32mTrue\u001B[0m\u001B[1;33m,\u001B[0m \u001B[0mcategories\u001B[0m\u001B[1;33m.\u001B[0m\u001B[0mindex\u001B[0m\u001B[1;33m)\u001B[0m\u001B[1;33m\u001B[0m\u001B[1;33m\u001B[0m\u001B[0m\n",
      "\u001B[1;32m~\\anaconda3\\lib\\site-packages\\finlab\\data.py\u001B[0m in \u001B[0;36mget\u001B[1;34m(dataset, use_cache)\u001B[0m\n\u001B[0;32m    195\u001B[0m         \u001B[1;32mreturn\u001B[0m \u001B[0mret\u001B[0m \u001B[1;32mif\u001B[0m \u001B[1;32mnot\u001B[0m \u001B[0muniverse_stocks\u001B[0m \u001B[1;32melse\u001B[0m \u001B[0mret\u001B[0m\u001B[1;33m[\u001B[0m\u001B[0mret\u001B[0m\u001B[1;33m.\u001B[0m\u001B[0mcolumns\u001B[0m\u001B[1;33m.\u001B[0m\u001B[0mintersection\u001B[0m\u001B[1;33m(\u001B[0m\u001B[0muniverse_stocks\u001B[0m\u001B[1;33m)\u001B[0m\u001B[1;33m]\u001B[0m\u001B[1;33m\u001B[0m\u001B[1;33m\u001B[0m\u001B[0m\n\u001B[0;32m    196\u001B[0m \u001B[1;33m\u001B[0m\u001B[0m\n\u001B[1;32m--> 197\u001B[1;33m     \u001B[0mapi_token\u001B[0m \u001B[1;33m=\u001B[0m \u001B[0mget_token\u001B[0m\u001B[1;33m(\u001B[0m\u001B[1;33m)\u001B[0m\u001B[1;33m\u001B[0m\u001B[1;33m\u001B[0m\u001B[0m\n\u001B[0m\u001B[0;32m    198\u001B[0m \u001B[1;33m\u001B[0m\u001B[0m\n\u001B[0;32m    199\u001B[0m     \u001B[1;31m# request for auth url\u001B[0m\u001B[1;33m\u001B[0m\u001B[1;33m\u001B[0m\u001B[1;33m\u001B[0m\u001B[0m\n",
      "\u001B[1;32m~\\anaconda3\\lib\\site-packages\\finlab\\__init__.py\u001B[0m in \u001B[0;36mget_token\u001B[1;34m()\u001B[0m\n\u001B[0;32m     70\u001B[0m \u001B[1;32mdef\u001B[0m \u001B[0mget_token\u001B[0m\u001B[1;33m(\u001B[0m\u001B[1;33m)\u001B[0m\u001B[1;33m:\u001B[0m\u001B[1;33m\u001B[0m\u001B[1;33m\u001B[0m\u001B[0m\n\u001B[0;32m     71\u001B[0m     \u001B[1;32mif\u001B[0m \u001B[1;34m'finlab_id_token'\u001B[0m \u001B[1;32mnot\u001B[0m \u001B[1;32min\u001B[0m \u001B[0mos\u001B[0m\u001B[1;33m.\u001B[0m\u001B[0menviron\u001B[0m\u001B[1;33m:\u001B[0m\u001B[1;33m\u001B[0m\u001B[1;33m\u001B[0m\u001B[0m\n\u001B[1;32m---> 72\u001B[1;33m         \u001B[0mlogin\u001B[0m\u001B[1;33m(\u001B[0m\u001B[1;33m)\u001B[0m\u001B[1;33m\u001B[0m\u001B[1;33m\u001B[0m\u001B[0m\n\u001B[0m\u001B[0;32m     73\u001B[0m \u001B[1;33m\u001B[0m\u001B[0m\n\u001B[0;32m     74\u001B[0m     \u001B[1;32mreturn\u001B[0m \u001B[0mos\u001B[0m\u001B[1;33m.\u001B[0m\u001B[0menviron\u001B[0m\u001B[1;33m[\u001B[0m\u001B[1;34m'finlab_id_token'\u001B[0m\u001B[1;33m]\u001B[0m\u001B[1;33m\u001B[0m\u001B[1;33m\u001B[0m\u001B[0m\n",
      "\u001B[1;32m~\\anaconda3\\lib\\site-packages\\finlab\\__init__.py\u001B[0m in \u001B[0;36mlogin\u001B[1;34m(api_token)\u001B[0m\n\u001B[0;32m     61\u001B[0m         \u001B[0mlp\u001B[0m \u001B[1;33m=\u001B[0m \u001B[0mLoginPanel\u001B[0m\u001B[1;33m(\u001B[0m\u001B[1;33m)\u001B[0m\u001B[1;33m\u001B[0m\u001B[1;33m\u001B[0m\u001B[0m\n\u001B[0;32m     62\u001B[0m         \u001B[1;32mif\u001B[0m \u001B[0mlp\u001B[0m\u001B[1;33m.\u001B[0m\u001B[0mgui_supported\u001B[0m\u001B[1;33m(\u001B[0m\u001B[1;33m)\u001B[0m\u001B[1;33m:\u001B[0m\u001B[1;33m\u001B[0m\u001B[1;33m\u001B[0m\u001B[0m\n\u001B[1;32m---> 63\u001B[1;33m             \u001B[0mlp\u001B[0m\u001B[1;33m.\u001B[0m\u001B[0mdisplay_gui\u001B[0m\u001B[1;33m(\u001B[0m\u001B[1;33m)\u001B[0m\u001B[1;33m\u001B[0m\u001B[1;33m\u001B[0m\u001B[0m\n\u001B[0m\u001B[0;32m     64\u001B[0m         \u001B[1;32melse\u001B[0m\u001B[1;33m:\u001B[0m\u001B[1;33m\u001B[0m\u001B[1;33m\u001B[0m\u001B[0m\n\u001B[0;32m     65\u001B[0m             \u001B[0mlp\u001B[0m\u001B[1;33m.\u001B[0m\u001B[0mdisplay_text_input\u001B[0m\u001B[1;33m(\u001B[0m\u001B[1;33m)\u001B[0m\u001B[1;33m\u001B[0m\u001B[1;33m\u001B[0m\u001B[0m\n",
      "\u001B[1;32m~\\anaconda3\\lib\\site-packages\\finlab\\__init__.py\u001B[0m in \u001B[0;36mdisplay_gui\u001B[1;34m(self)\u001B[0m\n\u001B[0;32m     33\u001B[0m \u001B[1;33m\u001B[0m\u001B[0m\n\u001B[0;32m     34\u001B[0m         \u001B[0mclear_output\u001B[0m\u001B[1;33m(\u001B[0m\u001B[1;33m)\u001B[0m\u001B[1;33m\u001B[0m\u001B[1;33m\u001B[0m\u001B[0m\n\u001B[1;32m---> 35\u001B[1;33m         \u001B[0mself\u001B[0m\u001B[1;33m.\u001B[0m\u001B[0mlogin\u001B[0m\u001B[1;33m(\u001B[0m\u001B[0mtoken\u001B[0m\u001B[1;33m)\u001B[0m\u001B[1;33m\u001B[0m\u001B[1;33m\u001B[0m\u001B[0m\n\u001B[0m\u001B[0;32m     36\u001B[0m \u001B[1;33m\u001B[0m\u001B[0m\n\u001B[0;32m     37\u001B[0m     \u001B[1;32mdef\u001B[0m \u001B[0mdisplay_text_input\u001B[0m\u001B[1;33m(\u001B[0m\u001B[0mself\u001B[0m\u001B[1;33m)\u001B[0m\u001B[1;33m:\u001B[0m\u001B[1;33m\u001B[0m\u001B[1;33m\u001B[0m\u001B[0m\n",
      "\u001B[1;32m~\\anaconda3\\lib\\site-packages\\finlab\\__init__.py\u001B[0m in \u001B[0;36mlogin\u001B[1;34m(token)\u001B[0m\n\u001B[0;32m     44\u001B[0m         \u001B[1;31m# check\u001B[0m\u001B[1;33m\u001B[0m\u001B[1;33m\u001B[0m\u001B[1;33m\u001B[0m\u001B[0m\n\u001B[0;32m     45\u001B[0m         \u001B[1;32mif\u001B[0m \u001B[1;34m'#'\u001B[0m \u001B[1;32mnot\u001B[0m \u001B[1;32min\u001B[0m \u001B[0mtoken\u001B[0m \u001B[1;32mor\u001B[0m \u001B[0mtoken\u001B[0m\u001B[1;33m.\u001B[0m\u001B[0msplit\u001B[0m\u001B[1;33m(\u001B[0m\u001B[1;34m'#'\u001B[0m\u001B[1;33m)\u001B[0m\u001B[1;33m[\u001B[0m\u001B[1;36m1\u001B[0m\u001B[1;33m]\u001B[0m \u001B[1;32mnot\u001B[0m \u001B[1;32min\u001B[0m \u001B[1;33m[\u001B[0m\u001B[1;34m'vip'\u001B[0m\u001B[1;33m,\u001B[0m \u001B[1;34m'free'\u001B[0m\u001B[1;33m]\u001B[0m\u001B[1;33m:\u001B[0m\u001B[1;33m\u001B[0m\u001B[1;33m\u001B[0m\u001B[0m\n\u001B[1;32m---> 46\u001B[1;33m             raise Exception('The api_token format is wrong, '\n\u001B[0m\u001B[0;32m     47\u001B[0m                             \u001B[1;34m'please paste the api_token after re-run the process or '\u001B[0m\u001B[1;33m\u001B[0m\u001B[1;33m\u001B[0m\u001B[0m\n\u001B[0;32m     48\u001B[0m                             'check api token from https://ai.finlab.tw/api_token/.')\n",
      "\u001B[1;31mException\u001B[0m: The api_token format is wrong, please paste the api_token after re-run the process or check api token from https://ai.finlab.tw/api_token/."
     ]
    }
   ]
  },
  {
   "cell_type": "code",
   "metadata": {
    "colab": {
     "base_uri": "https://localhost:8080/"
    },
    "id": "hs4QVgDvwX_0",
    "outputId": "26590cae-2251-4a56-866c-8f772f0a42c4"
   },
   "source": [
    "ind_y_return=ind_report.creturn.calc_stats().return_table['YTD']\n",
    "y_return=report.creturn.calc_stats().return_table['YTD']\n",
    "print(ind_y_return-y_return)\n",
    "print('better_ratio:',sum(ind_y_return>y_return)/len(ind_y_return))"
   ],
   "execution_count": null,
   "outputs": []
  },
  {
   "cell_type": "code",
   "metadata": {
    "id": "TRrs2ab7KH3K"
   },
   "source": [
    ""
   ],
   "execution_count": null,
   "outputs": []
  }
 ]
}